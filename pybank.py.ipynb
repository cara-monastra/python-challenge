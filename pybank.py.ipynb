{
 "cells": [
  {
   "cell_type": "code",
   "execution_count": null,
   "id": "3f092798",
   "metadata": {},
   "outputs": [],
   "source": [
    "import csv\n",
    "\n",
    "months =[]\n",
    "profit = []\n",
    "total = []\n",
    "with open(\"budget_data.csv\") as csvfile:\n",
    "    file = csv.reader(csvfile, delimiter=\",\")\n",
    "    next(file, None)\n",
    "    for row in file:\n",
    "        total.append(row)\n",
    "        months.append(row[0].split('-')[0])\n",
    "        profit.append(int(row[1]))\n",
    "\n",
    "\n",
    "highest = max(profit)\n",
    "highest_profit_month = row[0]\n",
    "\n",
    "\n",
    "\n",
    "\n",
    "number_of_months = (len(set(months)))\n",
    "net_profit = (sum(profit))\n",
    "average = net_profit / len(profit)\n",
    "average_2d = \"{:.2f}\".format(average)\n",
    "\n",
    "print(\"Financial Analysis\")\n",
    "\n",
    "print(\"--------------------------\")\n",
    "\n",
    "print(f'Total Months: {number_of_months}')\n",
    "print(f'Total: ${net_profit}')\n",
    "print(f'Average Change: ${average_2d}')\n",
    "index_max = profit.index(max(profit))\n",
    "index_min = profit.index(min(profit))\n",
    "print(f'Greatest Increase in Profits: {total[index_max][0]} ${max(profit)}')\n",
    "print(f'Greatest Decrease in Profits: {total[index_min][0]} ${min(profit)}')"
   ]
  }
 ],
 "metadata": {
  "kernelspec": {
   "display_name": "Python 3 (ipykernel)",
   "language": "python",
   "name": "python3"
  },
  "language_info": {
   "codemirror_mode": {
    "name": "ipython",
    "version": 3
   },
   "file_extension": ".py",
   "mimetype": "text/x-python",
   "name": "python",
   "nbconvert_exporter": "python",
   "pygments_lexer": "ipython3",
   "version": "3.9.12"
  }
 },
 "nbformat": 4,
 "nbformat_minor": 5
}
