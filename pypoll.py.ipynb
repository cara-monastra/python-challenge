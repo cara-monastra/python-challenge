{
 "cells": [
  {
   "cell_type": "code",
   "execution_count": 1,
   "id": "b7229456",
   "metadata": {},
   "outputs": [
    {
     "ename": "FileNotFoundError",
     "evalue": "[Errno 2] No such file or directory: 'election_data.csv'",
     "output_type": "error",
     "traceback": [
      "\u001b[0;31m---------------------------------------------------------------------------\u001b[0m",
      "\u001b[0;31mFileNotFoundError\u001b[0m                         Traceback (most recent call last)",
      "Input \u001b[0;32mIn [1]\u001b[0m, in \u001b[0;36m<cell line: 8>\u001b[0;34m()\u001b[0m\n\u001b[1;32m      5\u001b[0m r \u001b[38;5;241m=\u001b[39m \u001b[38;5;241m0\u001b[39m \n\u001b[1;32m      6\u001b[0m d \u001b[38;5;241m=\u001b[39m \u001b[38;5;241m0\u001b[39m \n\u001b[0;32m----> 8\u001b[0m \u001b[38;5;28;01mwith\u001b[39;00m \u001b[38;5;28;43mopen\u001b[39;49m\u001b[43m(\u001b[49m\u001b[38;5;124;43m\"\u001b[39;49m\u001b[38;5;124;43melection_data.csv\u001b[39;49m\u001b[38;5;124;43m\"\u001b[39;49m\u001b[43m)\u001b[49m \u001b[38;5;28;01mas\u001b[39;00m csvfile:\n\u001b[1;32m      9\u001b[0m     file \u001b[38;5;241m=\u001b[39m csv\u001b[38;5;241m.\u001b[39mreader(csvfile, delimiter\u001b[38;5;241m=\u001b[39m\u001b[38;5;124m\"\u001b[39m\u001b[38;5;124m,\u001b[39m\u001b[38;5;124m\"\u001b[39m)\n\u001b[1;32m     10\u001b[0m     \u001b[38;5;28mnext\u001b[39m(file, \u001b[38;5;28;01mNone\u001b[39;00m)\n",
      "\u001b[0;31mFileNotFoundError\u001b[0m: [Errno 2] No such file or directory: 'election_data.csv'"
     ]
    }
   ],
   "source": [
    "import csv \n",
    "votes = []\n",
    "canidates = []\n",
    "c = 0 \n",
    "r = 0 \n",
    "d = 0 \n",
    "\n",
    "with open(\"election_data.csv\") as csvfile:\n",
    "    file = csv.reader(csvfile, delimiter=\",\")\n",
    "    next(file, None)\n",
    "    for row in file:\n",
    "        votes.append((row[0]))\n",
    "        canidates.append(row[2])\n",
    "        if row[2] == 'Charles Casper Stockham':\n",
    "            c+=1\n",
    "            \n",
    "        elif row[2] == 'Raymon Anthony Doane':\n",
    "            r+=1\n",
    "            \n",
    "        elif row[2] == 'Diana DeGette':\n",
    "            d+=1\n",
    " \n",
    "       \n",
    "    \n",
    "    total_votes =len(votes)  \n",
    "\n",
    "c_3d = \"{:.3f}\".format(c/total_votes*100) \n",
    "r_3d = \"{:.3f}\".format(r/total_votes*100) \n",
    "d_3d = \"{:.3f}\".format(d/total_votes*100) \n",
    "\n",
    "\n",
    "winner = max(c, r, d)\n",
    "\n",
    "print(\"Election Results\")\n",
    "\n",
    "print(\"----------------------------\")\n",
    "\n",
    "print(f'Total Votes: {total_votes}')\n",
    "\n",
    "\n",
    "print(\"----------------------------\")\n",
    "\n",
    "print(f'Charles Casper Stockham: {c_3d}% ({c}) ')\n",
    "print(f'Raymon Anthony Doane: {r_3d}% ({r}) ')\n",
    "print(f'Diana DeGette: {d_3d}% ({d}) ')\n",
    "\n",
    "print(\"----------------------------\")\n",
    "\n",
    "if c == winner:\n",
    "    print(\"Winner: Charles Casper Stockham\")\n",
    "elif r== winner:\n",
    "        print(\"Winner: Raymon Anthony Doane\")\n",
    "elif d== winner:\n",
    "        print(\"Winner: Diana DeGette\")\n",
    "\n",
    "print(\"----------------------------\")\n"
   ]
  },
  {
   "cell_type": "code",
   "execution_count": null,
   "id": "0e315fd9",
   "metadata": {},
   "outputs": [],
   "source": [
    "pypoo"
   ]
  }
 ],
 "metadata": {
  "kernelspec": {
   "display_name": "Python 3 (ipykernel)",
   "language": "python",
   "name": "python3"
  },
  "language_info": {
   "codemirror_mode": {
    "name": "ipython",
    "version": 3
   },
   "file_extension": ".py",
   "mimetype": "text/x-python",
   "name": "python",
   "nbconvert_exporter": "python",
   "pygments_lexer": "ipython3",
   "version": "3.9.12"
  }
 },
 "nbformat": 4,
 "nbformat_minor": 5
}
